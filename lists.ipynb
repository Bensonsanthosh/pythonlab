{
  "cells": [
    {
      "cell_type": "code",
      "execution_count": null,
      "metadata": {
        "id": "ZM3XiLT7A4ey"
      },
      "outputs": [],
      "source": []
    },
    {
      "cell_type": "markdown",
      "metadata": {
        "id": "L1UzbFInBdgD"
      },
      "source": [
        "Generate positive list of numbers from a given list of integers"
      ]
    },
    {
      "cell_type": "code",
      "execution_count": null,
      "metadata": {
        "colab": {
          "base_uri": "https://localhost:8080/"
        },
        "id": "PEuzOat7BfFx",
        "outputId": "d2062683-9814-44f1-ec22-08949d080047"
      },
      "outputs": [
        {
          "name": "stdout",
          "output_type": "stream",
          "text": [
            "[1, 5]\n"
          ]
        }
      ],
      "source": [
        "l1=[-2,1,-4,0,5]\n",
        "l2=[i for i in l1 if i>0]\n",
        "print(l2)"
      ]
    },
    {
      "cell_type": "markdown",
      "metadata": {
        "id": "nCjCEezWC4HC"
      },
      "source": [
        "Square of N numbers"
      ]
    },
    {
      "cell_type": "code",
      "execution_count": null,
      "metadata": {
        "colab": {
          "base_uri": "https://localhost:8080/"
        },
        "id": "qCvNisSeC5RK",
        "outputId": "07df4e0d-697c-4b16-dad1-85c38d376ed2"
      },
      "outputs": [
        {
          "name": "stdout",
          "output_type": "stream",
          "text": [
            "Enter any number:5\n",
            "[0, 1, 4, 9, 16, 25]\n"
          ]
        }
      ],
      "source": [
        "n=int(input(\"Enter any number:\"))\n",
        "sq=[i**2 for i in range(n+1)]\n",
        "print(sq)"
      ]
    },
    {
      "cell_type": "markdown",
      "metadata": {
        "id": "pyDvjZ7HE0rV"
      },
      "source": [
        "Form a list of vowels selected from a given word"
      ]
    },
    {
      "cell_type": "code",
      "execution_count": null,
      "metadata": {
        "colab": {
          "base_uri": "https://localhost:8080/"
        },
        "id": "oBy1ZFW2E346",
        "outputId": "dfc5a29b-a98b-40c3-9a9f-2c827e745290"
      },
      "outputs": [
        {
          "name": "stdout",
          "output_type": "stream",
          "text": [
            "Enter any word:benson\n",
            "['e', 'o']\n"
          ]
        }
      ],
      "source": [
        "word=input(\"Enter any word:\")\n",
        "vow=[i for i in word if i in \"aeiouAEIOU\"]\n",
        "print(vow)"
      ]
    },
    {
      "cell_type": "markdown",
      "metadata": {
        "id": "SZwgz38bFia8"
      },
      "source": [
        "List ordinal value of each element of a word (Hint: use ord() to get ordinal values)"
      ]
    },
    {
      "cell_type": "code",
      "execution_count": null,
      "metadata": {
        "colab": {
          "base_uri": "https://localhost:8080/"
        },
        "id": "UN6Ufh6_FmSa",
        "outputId": "f4d590dc-e936-4c2e-f671-403db994dc27"
      },
      "outputs": [
        {
          "name": "stdout",
          "output_type": "stream",
          "text": [
            "Enter any word:hello\n",
            "[104, 101, 108, 108, 111]\n"
          ]
        }
      ],
      "source": [
        "word=input(\"Enter any word:\")\n",
        "val=[ord(i) for i in word]\n",
        "print(val)"
      ]
    },
    {
      "cell_type": "markdown",
      "metadata": {
        "id": "yUg1Mw7NF-oB"
      },
      "source": [
        "Prompt the user for a list of integers. For all values greater than 100, store ‘over’ instead.\n"
      ]
    },
    {
      "cell_type": "code",
      "execution_count": null,
      "metadata": {
        "colab": {
          "base_uri": "https://localhost:8080/"
        },
        "id": "S1lkPT6pGDJL",
        "outputId": "ef4ebcfb-4884-4cd8-9017-e8cbd3ac694d"
      },
      "outputs": [
        {
          "name": "stdout",
          "output_type": "stream",
          "text": [
            "Enter limit:5\n",
            "Enter 5 values\n",
            "Enter value:1\n",
            "Enter value:2\n",
            "Enter value:3\n",
            "Enter value:4\n",
            "Enter value:5\n",
            "[1, 2, 3, 4, 5]\n"
          ]
        }
      ],
      "source": [
        "lim=int(input(\"Enter limit:\"))\n",
        "l1=[]\n",
        "print(\"Enter\",lim,\"values\")\n",
        "for a in range(lim):\n",
        "  inp=int(input(\"Enter value:\"))\n",
        "  if(inp>100):\n",
        "    l1.append(\"over\")\n",
        "  else:\n",
        "      l1.append(inp)\n",
        "print(l1)"
      ]
    },
    {
      "cell_type": "markdown",
      "metadata": {
        "id": "kY1VxFwVHZ3z"
      },
      "source": [
        "Store a list of first names. Count the occurrences of ‘a’ within the list\n"
      ]
    },
    {
      "cell_type": "code",
      "execution_count": null,
      "metadata": {
        "colab": {
          "base_uri": "https://localhost:8080/"
        },
        "id": "LGEa_FaRHuz6",
        "outputId": "c9f56d4e-5904-44de-ce47-2a28d59c2425"
      },
      "outputs": [
        {
          "name": "stdout",
          "output_type": "stream",
          "text": [
            "The name John has the letter 'a'  0 times\n",
            "The name Ben has the letter 'a'  0 times\n",
            "The name Dona has the letter 'a'  1 times\n",
            "The name Faizal has the letter 'a'  2 times\n",
            "The name Deny has the letter 'a'  0 times\n"
          ]
        }
      ],
      "source": [
        "names=[\"John\",\"Ben\",\"Dona\",\"Faizal\",\"Deny\"]\n",
        "for a in names:\n",
        "  print(\"The name \"+a+\" has the letter 'a' \",a.count('a'),\"times\")"
      ]
    },
    {
      "cell_type": "markdown",
      "metadata": {
        "id": "A6jUv0RmYxwI"
      },
      "source": [
        "(CO2:9)Construct following pattern using nested loop\n"
      ]
    },
    {
      "cell_type": "code",
      "execution_count": null,
      "metadata": {
        "colab": {
          "base_uri": "https://localhost:8080/"
        },
        "id": "dKIQJm-XZBE8",
        "outputId": "42af8e7a-598b-41c8-8f9a-5da2f10b3c80"
      },
      "outputs": [
        {
          "name": "stdout",
          "output_type": "stream",
          "text": [
            "\n",
            "* \n",
            "* * \n",
            "* * * \n",
            "* * * * \n",
            "* * * * * \n",
            "* * * * \n",
            "* * * \n",
            "* * \n",
            "* \n"
          ]
        }
      ],
      "source": [
        "n=5;\n",
        "for i in range(n):\n",
        "     for j in range(i):\n",
        "          print('*',end=\" \")\n",
        "     print(\"\")\n",
        "for i in range(n,0,-1):\n",
        "      for j in range(i):\n",
        "           print('*',end=\" \")\n",
        "      print(\"\")"
      ]
    },
    {
      "cell_type": "markdown",
      "metadata": {
        "id": "nkYaPKfCapmn"
      },
      "source": [
        "(CO 2:10)Generate all factors of a number.\n"
      ]
    },
    {
      "cell_type": "code",
      "execution_count": null,
      "metadata": {
        "colab": {
          "base_uri": "https://localhost:8080/"
        },
        "id": "6jQq2i5Ea82x",
        "outputId": "3c042491-dd18-4c5f-ba47-0b5205caddf2"
      },
      "outputs": [
        {
          "name": "stdout",
          "output_type": "stream",
          "text": [
            "Enter the number:320\n",
            "The factors of 320 are:\n",
            "1\n",
            "2\n",
            "4\n",
            "5\n",
            "8\n",
            "10\n",
            "16\n",
            "20\n",
            "32\n",
            "40\n",
            "64\n",
            "80\n",
            "160\n",
            "320\n"
          ]
        }
      ],
      "source": [
        "x=int(input(\"Enter the number:\"))\n",
        "print(\"The factors of\",x,\"are:\")\n",
        "for i in range(1, x + 1):\n",
        "  if x % i == 0:\n",
        "    print(i)"
      ]
    },
    {
      "cell_type": "markdown",
      "metadata": {
        "id": "xpxeqkPtf5Me"
      },
      "source": [
        "(CO 2:6)Count the number of characters (character frequency) in a string.\n"
      ]
    },
    {
      "cell_type": "code",
      "execution_count": null,
      "metadata": {
        "colab": {
          "base_uri": "https://localhost:8080/"
        },
        "id": "4daCZrdYf-Mm",
        "outputId": "d04596c8-2c59-44ae-f5b6-c371ef78445b"
      },
      "outputs": [
        {
          "name": "stdout",
          "output_type": "stream",
          "text": [
            "Enter a String:outstanding\n",
            "o:1,u:1,t:2,s:1,t:2,a:1,n:2,d:1,i:1,n:2,g:1,"
          ]
        }
      ],
      "source": [
        "name=str(input(\"Enter a String:\"))\n",
        "for i in name:\n",
        "  frequency=name.count(i)\n",
        "  print(str(i)+\":\"+str(frequency),end=\",\")\n"
      ]
    },
    {
      "cell_type": "markdown",
      "metadata": {
        "id": "hMxxApJYh8yo"
      },
      "source": [
        "(CO 1:19)Find gcd of 2 numbers.\n"
      ]
    },
    {
      "cell_type": "code",
      "execution_count": null,
      "metadata": {
        "colab": {
          "base_uri": "https://localhost:8080/"
        },
        "id": "_LMH_ujoiGiA",
        "outputId": "0c90c1a6-0573-4a68-f64e-a5b258d6fe82"
      },
      "outputs": [
        {
          "name": "stdout",
          "output_type": "stream",
          "text": [
            "Enter First Number:56\n",
            "Enter Second Number:45\n",
            "GCD of 56 and 45 is 1\n"
          ]
        }
      ],
      "source": [
        "num1=int(input(\"Enter First Number:\"))\n",
        "num2=int(input(\"Enter Second Number:\"))\n",
        "for i in range(1, min(num1, num2)):\n",
        "    if num1 % i == 0 and num2 % i == 0:\n",
        "        gcd = i\n",
        "print(\"GCD of\", num1, \"and\", num2, \"is\", gcd)\n",
        "\n",
        "\n"
      ]
    },
    {
      "cell_type": "markdown",
      "metadata": {
        "id": "O59Vc8uuojpK"
      },
      "source": [
        "CO1:20,From a list of integers, create a list removing even numbers"
      ]
    },
    {
      "cell_type": "code",
      "execution_count": null,
      "metadata": {
        "colab": {
          "base_uri": "https://localhost:8080/"
        },
        "id": "lyJ8sAWeosOj",
        "outputId": "aea2b47a-26ce-46f4-de61-f3a70ec20bf2"
      },
      "outputs": [
        {
          "output_type": "stream",
          "name": "stdout",
          "text": [
            "Enter the limit:5\n",
            "Enter a number:1\n",
            "Enter a number:2\n",
            "Enter a number:3\n",
            "Enter a number:4\n",
            "Enter a number:5\n",
            "List after removing EVEN numbers:\n",
            "List after removing EVEN numbers:\n",
            "[1, 3, 5]\n"
          ]
        }
      ],
      "source": [
        "l1=[]\n",
        "n=int(input(\"Enter the limit:\"))\n",
        "for i in range(n):\n",
        "  l1.append(int(input(\"Enter a number:\")))\n",
        "for i in l1:\n",
        "    if i % 2 == 0:\n",
        "        l1.remove(i)\n",
        "        print(\"List after removing EVEN numbers:\")\n",
        "print(l1)"
      ]
    },
    {
      "cell_type": "markdown",
      "source": [
        "CO 1:14,Accept an integer n and compute n+nn+nnn.\n"
      ],
      "metadata": {
        "id": "HmoBGKtVrM8K"
      }
    },
    {
      "cell_type": "code",
      "source": [
        "a=int(input(\"Enter the number:\"))\n",
        "n1=int(\"%s\" % a )\n",
        "n2=int(\"%s%s\" % (a,a))\n",
        "n3=int(\"%s%s%s\" % (a,a,a))\n",
        "print (n1+n2+n3)\n"
      ],
      "metadata": {
        "colab": {
          "base_uri": "https://localhost:8080/"
        },
        "id": "hN8wYtCTrWoY",
        "outputId": "21f6d1bf-882c-45d2-f768-69137c1a09c9"
      },
      "execution_count": null,
      "outputs": [
        {
          "output_type": "stream",
          "name": "stdout",
          "text": [
            "Enter the number:3\n",
            "369\n"
          ]
        }
      ]
    },
    {
      "cell_type": "markdown",
      "source": [
        "CO1:7,Enter 2 lists of integers. Check (a) Whether list are of same length (b) whether list sums to same value (c) whether any value occur in both\n",
        "\n"
      ],
      "metadata": {
        "id": "xoIoVQyT_fW1"
      }
    },
    {
      "cell_type": "code",
      "source": [
        "sum1=0\n",
        "sum2=0\n",
        "list1=[1,2,3,4,5,6]\n",
        "list2=[1,4,3,6,7,8,9]\n",
        "if (len(list1)==len(list2)):\n",
        "  print(\"list are same length\")\n",
        "else:\n",
        "  print(\"list are not same length\")\n",
        "for i in list1 :\n",
        "  sum1=sum1 + i\n",
        "for i in list2:\n",
        "  sum2=sum1 + i\n",
        "if(sum1==sum2):\n",
        "  print(\"sum is same\")\n",
        "else:\n",
        "  print(\"sum not same\")"
      ],
      "metadata": {
        "colab": {
          "base_uri": "https://localhost:8080/"
        },
        "id": "lLVM5AEM_wLX",
        "outputId": "c956063e-08e8-4ab7-968a-36ab628e1326"
      },
      "execution_count": null,
      "outputs": [
        {
          "output_type": "stream",
          "name": "stdout",
          "text": [
            "list are not same length\n",
            "sum not same\n"
          ]
        }
      ]
    },
    {
      "cell_type": "code",
      "source": [
        "name=\"benson santhosh\"\n",
        "name[-1]+name[1:-1]+name[0]"
      ],
      "metadata": {
        "colab": {
          "base_uri": "https://localhost:8080/",
          "height": 36
        },
        "id": "rcLj4JzJC0U8",
        "outputId": "f7e25eaa-7e2b-44f5-dafa-37e2b34379ce"
      },
      "execution_count": null,
      "outputs": [
        {
          "output_type": "execute_result",
          "data": {
            "text/plain": [
              "'henson santhosb'"
            ],
            "application/vnd.google.colaboratory.intrinsic+json": {
              "type": "string"
            }
          },
          "metadata": {},
          "execution_count": 10
        }
      ]
    },
    {
      "cell_type": "code",
      "source": [
        "n=int(input(\"Enter n:\"))\n",
        "for i in range(1,n+1):\n",
        "  print(\"*\"*i)\n",
        "for i in range(n-1,0,-1):\n",
        "  print(\"*\"*i)\n"
      ],
      "metadata": {
        "colab": {
          "base_uri": "https://localhost:8080/"
        },
        "id": "uogGDeWEGDCa",
        "outputId": "77770e2f-69f6-49f6-ebf9-8f08229f2944"
      },
      "execution_count": null,
      "outputs": [
        {
          "output_type": "stream",
          "name": "stdout",
          "text": [
            "Enter n:6\n",
            "*\n",
            "**\n",
            "***\n",
            "****\n",
            "*****\n",
            "******\n",
            "*****\n",
            "****\n",
            "***\n",
            "**\n",
            "*\n"
          ]
        }
      ]
    },
    {
      "cell_type": "code",
      "source": [
        "print(\"*\"*4)"
      ],
      "metadata": {
        "colab": {
          "base_uri": "https://localhost:8080/"
        },
        "id": "jHQD2HiVGXzq",
        "outputId": "4edabfbf-23d6-494a-9804-2ff1ec2b7ee8"
      },
      "execution_count": null,
      "outputs": [
        {
          "output_type": "stream",
          "name": "stdout",
          "text": [
            "****\n"
          ]
        }
      ]
    },
    {
      "cell_type": "markdown",
      "source": [
        "CO 2:7 Add ‘ing’ at the end of a given string. If it already ends with ‘ing’, then add ‘ly’"
      ],
      "metadata": {
        "id": "5bCHt9LNRH3g"
      }
    },
    {
      "cell_type": "code",
      "source": [
        "def add_ing_ly(s):\n",
        "  if s.endswith('ing'):\n",
        "    return s+'ly'\n",
        "  else:\n",
        "    return s+ 'ing'\n",
        "string=input(\"Enter the string:\")\n",
        "result_string=add_ing_ly(string)\n",
        "print(\"result:\",result_string)"
      ],
      "metadata": {
        "colab": {
          "base_uri": "https://localhost:8080/"
        },
        "id": "JcQwvQjqRQmg",
        "outputId": "2a798ae7-c2ef-4b9b-a22a-b660847da23d"
      },
      "execution_count": null,
      "outputs": [
        {
          "output_type": "stream",
          "name": "stdout",
          "text": [
            "Enter the string:play\n",
            "result: playing\n"
          ]
        }
      ]
    },
    {
      "cell_type": "markdown",
      "source": [
        "CO2:11 Write lambda functions to find area of square, rectangle and triangle."
      ],
      "metadata": {
        "id": "SD3BN_JWUoMv"
      }
    },
    {
      "cell_type": "code",
      "source": [
        "#area of square\n",
        "import math\n",
        "p=int(input(\"Enter the length:\"))\n",
        "lamb1 = lambda p: p*p\n",
        "print(\"Area of Square\",lamb1(p))\n",
        "#area of rectangle\n",
        "q=int(input(\"Enter the length:\"))\n",
        "r=int(input(\"Enter the breadth:\"))\n",
        "lamb2=lambda q,r:q*r\n",
        "print(\"Area of rectangle\",lamb2(q,r))\n",
        "#area of triangle\n",
        "a=int(input(\"Enter the breadth:\"))\n",
        "b=int(input(\"Enter the height:\"))\n",
        "lamb3=lambda a,b:0.5*a*b\n",
        "print(\"Area of triangle:\",lamb3(a,b))"
      ],
      "metadata": {
        "id": "LPfVFcZMU7PF",
        "colab": {
          "base_uri": "https://localhost:8080/"
        },
        "outputId": "4b9049f0-285d-471e-b7a1-d2e946ad9b41"
      },
      "execution_count": null,
      "outputs": [
        {
          "output_type": "stream",
          "name": "stdout",
          "text": [
            "Enter the length:5\n",
            "Area of Square 25\n",
            "Enter the length:5\n",
            "Enter the breadth:5\n",
            "Area of rectangle 25\n",
            "Enter the breadth:5\n",
            "Enter the height:5\n",
            "Area of triangle 12.5\n"
          ]
        }
      ]
    },
    {
      "cell_type": "markdown",
      "source": [],
      "metadata": {
        "id": "909rceXwKsfZ"
      }
    },
    {
      "cell_type": "markdown",
      "source": [
        "CO 2:3 Find the sum of all items in a list\n"
      ],
      "metadata": {
        "id": "9U4utQACW_pv"
      }
    },
    {
      "cell_type": "code",
      "source": [
        "l=[]\n",
        "n=int(input(\"Enter the size of the list : \"))\n",
        "print(\"Enter elements : \")\n",
        "for i in range(n):\n",
        "  i=int(input())\n",
        "  l.append(i)\n",
        "\n",
        "print(\"Sum : \",sum(l))\n"
      ],
      "metadata": {
        "colab": {
          "base_uri": "https://localhost:8080/"
        },
        "id": "a3hgmZ9hXELJ",
        "outputId": "4ea5a006-d8b0-4c33-9c5d-fd1342ed535e"
      },
      "execution_count": null,
      "outputs": [
        {
          "output_type": "stream",
          "name": "stdout",
          "text": [
            "Enter the size of the list : 5\n",
            "Enter elements : \n",
            "1\n",
            "2\n",
            "3\n",
            "4\n",
            "5\n",
            "Sum :  15\n"
          ]
        }
      ]
    },
    {
      "cell_type": "markdown",
      "source": [
        "CO 2:4 Generate a list of four digit numbers in a given range with all their digits even and the number is a perfect square.\n"
      ],
      "metadata": {
        "id": "fR_jzsfTXQ3I"
      }
    },
    {
      "cell_type": "code",
      "source": [
        "res=[]\n",
        "for i in range(1000,10000):\n",
        "    if all(int(x)%2==0 for x in str(i)):\n",
        "        if int(i**0.5)**2==i:\n",
        "            res.append(i)\n",
        "print(\"List of numbers : \",res)"
      ],
      "metadata": {
        "colab": {
          "base_uri": "https://localhost:8080/"
        },
        "id": "YggvYSVqXiDQ",
        "outputId": "0aadd021-d80c-4613-a563-c9e27dbb1912"
      },
      "execution_count": null,
      "outputs": [
        {
          "output_type": "stream",
          "name": "stdout",
          "text": [
            "List of numbers :  [4624, 6084, 6400, 8464]\n"
          ]
        }
      ]
    },
    {
      "cell_type": "markdown",
      "source": [
        "CO 2:8 Accept a list of words and return length of longest word.\n"
      ],
      "metadata": {
        "id": "MqnqfyhaXw5Y"
      }
    },
    {
      "cell_type": "code",
      "source": [
        "a=[]\n",
        "n=int(input(\"Enter the size of the list : \"))\n",
        "print(\"Enter list : \")\n",
        "for i in range(n):\n",
        "  x=input()\n",
        "  a.append(x)\n",
        "\n",
        "max=len(a[0])\n",
        "temp=a[0]\n",
        "for i in a:\n",
        "  if len(i)>max:\n",
        "    max=len(i)\n",
        "    temp=i\n",
        "print(\"Word with max length is \",temp,\"It's length is \",max)\n"
      ],
      "metadata": {
        "colab": {
          "base_uri": "https://localhost:8080/"
        },
        "id": "zbcxibHPX9yI",
        "outputId": "afa3c314-886f-489e-c107-8be265d1687a"
      },
      "execution_count": null,
      "outputs": [
        {
          "output_type": "stream",
          "name": "stdout",
          "text": [
            "Enter the size of the list : 5\n",
            "Enter list : \n",
            "yadu\n",
            "binu\n",
            "blesson\n",
            "beema\n",
            "basil\n",
            "Word with max length is  blesson It's length is  7\n"
          ]
        }
      ]
    },
    {
      "cell_type": "markdown",
      "source": [
        "CO 1:4 Count the occurrences of each word in a line of text."
      ],
      "metadata": {
        "id": "tGcbIy7GYWHY"
      }
    },
    {
      "cell_type": "code",
      "source": [
        "str=input(\"Enter a line : \")\n",
        "l=[]\n",
        "l=str.split();\n",
        "wc=[l.count(i) for i in l]\n",
        "print(dict(zip(l,wc)))"
      ],
      "metadata": {
        "colab": {
          "base_uri": "https://localhost:8080/"
        },
        "id": "RAVhWgBUY_NJ",
        "outputId": "358c30af-6324-4f92-8199-37b278618c92"
      },
      "execution_count": null,
      "outputs": [
        {
          "output_type": "stream",
          "name": "stdout",
          "text": [
            "Enter a line : benson is the john wicl benson\n",
            "{'benson': 2, 'is': 1, 'the': 1, 'john': 1, 'wicl': 1}\n"
          ]
        }
      ]
    },
    {
      "cell_type": "markdown",
      "source": [
        "CO 1:8  Get a string from an input string where all occurrences of first character replaced with ‘$’, except first character.\n"
      ],
      "metadata": {
        "id": "wsfaAjcHbngh"
      }
    },
    {
      "cell_type": "code",
      "source": [
        "str1=input(\"Enter a word : \")\n",
        "f_c=str1[0]\n",
        "str1=str1.replace(f_c,'$')\n",
        "str1=f_c+str1[1:]\n",
        "print(str1)\n"
      ],
      "metadata": {
        "colab": {
          "base_uri": "https://localhost:8080/"
        },
        "id": "a1MkQ641b4rA",
        "outputId": "5aecf86c-d515-4d5c-c005-821e1f85347e"
      },
      "execution_count": null,
      "outputs": [
        {
          "output_type": "stream",
          "name": "stdout",
          "text": [
            "Enter a word : bensonb\n",
            "benson$\n"
          ]
        }
      ]
    },
    {
      "cell_type": "markdown",
      "source": [
        "CO 1: 9 Create a string from given string where first and last characters exchanged.  [eg: python -\n",
        "> nythop]\n"
      ],
      "metadata": {
        "id": "PE_h2Z3AcZj1"
      }
    },
    {
      "cell_type": "code",
      "source": [
        "name=input(\"Enter a name : \")\n",
        "name[-1]+name[1:-1]+name[0]\n"
      ],
      "metadata": {
        "colab": {
          "base_uri": "https://localhost:8080/",
          "height": 53
        },
        "id": "TYPP7a6ZclLI",
        "outputId": "b588f404-a617-40d6-836f-38d3a0e45c17"
      },
      "execution_count": null,
      "outputs": [
        {
          "name": "stdout",
          "output_type": "stream",
          "text": [
            "Enter a name : benson\n"
          ]
        },
        {
          "output_type": "execute_result",
          "data": {
            "text/plain": [
              "'nensob'"
            ],
            "application/vnd.google.colaboratory.intrinsic+json": {
              "type": "string"
            }
          },
          "metadata": {},
          "execution_count": 13
        }
      ]
    },
    {
      "cell_type": "markdown",
      "source": [
        "CO 1:12 Accept a file name from user and print extension of that.\n"
      ],
      "metadata": {
        "id": "nASSR25Gcrm4"
      }
    },
    {
      "cell_type": "code",
      "source": [
        "f_name=input(\"Enter a filename : \")\n",
        "f_ext=f_name.split(\".\")\n",
        "print(\"Extension : \",f_ext[-1])\n"
      ],
      "metadata": {
        "colab": {
          "base_uri": "https://localhost:8080/"
        },
        "id": "yxN_0fyEc0Kg",
        "outputId": "40cbced1-4598-4576-e64e-7446c781b09f"
      },
      "execution_count": null,
      "outputs": [
        {
          "output_type": "stream",
          "name": "stdout",
          "text": [
            "Enter a filename : benson.html\n",
            "Extension :  html\n"
          ]
        }
      ]
    },
    {
      "cell_type": "markdown",
      "source": [
        "CO1 :13 Create a list of colors from comma-separated color names entered by user. Display first and last colors.\n"
      ],
      "metadata": {
        "id": "UrBhGSK-dMp_"
      }
    },
    {
      "cell_type": "code",
      "source": [
        "n=int(input(\"Enter the size of the list:\"))\n",
        "print(\"Enter the colors:\")\n",
        "color_list=[input() for i in range(n)]\n",
        "print(color_list)\n",
        "print(\"First color : \",color_list[0],\" Last color : \",color_list[-1])"
      ],
      "metadata": {
        "colab": {
          "base_uri": "https://localhost:8080/"
        },
        "id": "Y7qWZjlFdXvX",
        "outputId": "6ddacd73-5cc9-4b99-a1fd-ba0df104e2b0"
      },
      "execution_count": null,
      "outputs": [
        {
          "output_type": "stream",
          "name": "stdout",
          "text": [
            "Enter the size of the list:5\n",
            "Enter the colors:\n",
            "red\n",
            "violet\n",
            "blue\n",
            "green\n",
            "yellow\n",
            "['red', 'violet', 'blue', 'green', 'yellow']\n",
            "First color :  red  Last color :  yellow\n"
          ]
        }
      ]
    }
  ],
  "metadata": {
    "colab": {
      "provenance": []
    },
    "kernelspec": {
      "display_name": "Python 3",
      "name": "python3"
    },
    "language_info": {
      "name": "python"
    }
  },
  "nbformat": 4,
  "nbformat_minor": 0
}