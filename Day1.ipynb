{
  "nbformat": 4,
  "nbformat_minor": 0,
  "metadata": {
    "colab": {
      "provenance": []
    },
    "kernelspec": {
      "name": "python3",
      "display_name": "Python 3"
    },
    "language_info": {
      "name": "python"
    }
  },
  "cells": [
    {
      "cell_type": "code",
      "source": [
        "print(\"hello\")"
      ],
      "metadata": {
        "colab": {
          "base_uri": "https://localhost:8080/"
        },
        "id": "z4lHSjT8-ZuX",
        "outputId": "79bac133-e692-41c2-e2a1-7020fd3dbc55"
      },
      "execution_count": null,
      "outputs": [
        {
          "output_type": "stream",
          "name": "stdout",
          "text": [
            "hello\n"
          ]
        }
      ]
    },
    {
      "cell_type": "code",
      "source": [
        "print('hello')"
      ],
      "metadata": {
        "colab": {
          "base_uri": "https://localhost:8080/"
        },
        "id": "HYPEw8fw_MOd",
        "outputId": "313992fa-8036-47f3-ec4d-b4fc84779f10"
      },
      "execution_count": null,
      "outputs": [
        {
          "output_type": "stream",
          "name": "stdout",
          "text": [
            "hello\n"
          ]
        }
      ]
    },
    {
      "cell_type": "code",
      "source": [
        "a=4\n",
        "b=5\n",
        "s=a+b\n",
        "print(s)"
      ],
      "metadata": {
        "colab": {
          "base_uri": "https://localhost:8080/"
        },
        "id": "HoG6d8-c_Rb0",
        "outputId": "8901094e-8e0e-4541-d84a-cbc09cf6ebf6"
      },
      "execution_count": null,
      "outputs": [
        {
          "output_type": "stream",
          "name": "stdout",
          "text": [
            "9\n"
          ]
        }
      ]
    },
    {
      "cell_type": "code",
      "source": [
        "# write a program to add 2 numbers\n",
        "a=4\n",
        "b=5\n",
        "s=a+b\n",
        "s"
      ],
      "metadata": {
        "colab": {
          "base_uri": "https://localhost:8080/"
        },
        "id": "8R6W2ZNm_dM1",
        "outputId": "dd331255-79ee-43d8-96f8-7af0fcfa671a"
      },
      "execution_count": null,
      "outputs": [
        {
          "output_type": "execute_result",
          "data": {
            "text/plain": [
              "9"
            ]
          },
          "metadata": {},
          "execution_count": 5
        }
      ]
    },
    {
      "cell_type": "code",
      "source": [
        "a=int(input('enter a:'))\n",
        "b=int(input('enter b: '))\n",
        "s=a+b\n",
        "print('sum=',s)"
      ],
      "metadata": {
        "colab": {
          "base_uri": "https://localhost:8080/"
        },
        "id": "hVyDCSSm_zed",
        "outputId": "fdceb5fb-4243-4ede-e231-f6fdd764c7a9"
      },
      "execution_count": null,
      "outputs": [
        {
          "output_type": "stream",
          "name": "stdout",
          "text": [
            "enter a:4\n",
            "enter b: 4\n",
            "sum= 8\n"
          ]
        }
      ]
    },
    {
      "cell_type": "markdown",
      "source": [
        "Write a program to input a number if the number is greater than 10,display appropriate message."
      ],
      "metadata": {
        "id": "rlG2xz35BygV"
      }
    },
    {
      "cell_type": "code",
      "source": [
        "num=int(input(\"Enter a number:\"))\n",
        "if(num>10):\n",
        "  print(\"Is greater than 10\")\n",
        "else:\n",
        "  print(\"Number is less than 10\")\n"
      ],
      "metadata": {
        "colab": {
          "base_uri": "https://localhost:8080/"
        },
        "id": "3X79PLRHDC3j",
        "outputId": "005baaa7-93e3-4562-8631-4b276c2edfa7"
      },
      "execution_count": null,
      "outputs": [
        {
          "output_type": "stream",
          "name": "stdout",
          "text": [
            "Enter a number:44\n",
            "Is greater than 10\n"
          ]
        }
      ]
    },
    {
      "cell_type": "markdown",
      "source": [
        "Write a program to input the age of a person check whether the person is eligible to vote and display appropriate message"
      ],
      "metadata": {
        "id": "2JqRLOGKCB49"
      }
    },
    {
      "cell_type": "code",
      "source": [],
      "metadata": {
        "id": "qCAsmLx5F-lu"
      },
      "execution_count": null,
      "outputs": []
    },
    {
      "cell_type": "code",
      "source": [
        "age=int(input(\"Enter your Age:\"))\n",
        "if(age>=18):\n",
        "  print(\"You can vote\")\n",
        "else:\n",
        "  print(\"You cannot vote\")"
      ],
      "metadata": {
        "colab": {
          "base_uri": "https://localhost:8080/"
        },
        "id": "wYJAriJtGFpG",
        "outputId": "d9fb7ff6-b8a3-48d6-dc16-501f2b7d8e20"
      },
      "execution_count": null,
      "outputs": [
        {
          "output_type": "stream",
          "name": "stdout",
          "text": [
            "Enter your Age:2\n",
            "You cannot vote\n"
          ]
        }
      ]
    },
    {
      "cell_type": "markdown",
      "source": [
        "Write a program to input two numbers and find the largest of 2 numbers."
      ],
      "metadata": {
        "id": "LrwoN0EjCRy7"
      }
    },
    {
      "cell_type": "code",
      "source": [
        "n1=int(input(\"Enter the first number:\"))\n",
        "n2=int(input(\"Enter the second number:\"))\n",
        "if(n1>n2):\n",
        "  print(n1,\"is greater than\",n2)\n",
        "else:\n",
        "  print(n2,\"is greater than\",n1)"
      ],
      "metadata": {
        "colab": {
          "base_uri": "https://localhost:8080/"
        },
        "id": "RTru5WBTG3oE",
        "outputId": "4cc8be0b-a3db-47b1-fd35-43988e2cfe9d"
      },
      "execution_count": null,
      "outputs": [
        {
          "output_type": "stream",
          "name": "stdout",
          "text": [
            "Enter the first number:7\n",
            "Enter the second number:8\n",
            "8 is greater than 7\n"
          ]
        }
      ]
    },
    {
      "cell_type": "markdown",
      "source": [
        "Write a program to input a number,check whether the number is odd or even."
      ],
      "metadata": {
        "id": "xXbVPdTACcLT"
      }
    },
    {
      "cell_type": "code",
      "source": [
        "num=int(input(\"Enter a number:\"))\n",
        "if(num%2==0):\n",
        "   print(num,\"is even number\")\n",
        "else:\n",
        "  print(num,\"is odd number\")"
      ],
      "metadata": {
        "colab": {
          "base_uri": "https://localhost:8080/"
        },
        "id": "BOpSA-96IDoJ",
        "outputId": "0fddaca7-5d90-4e0f-fcae-edf0b8df55fa"
      },
      "execution_count": null,
      "outputs": [
        {
          "output_type": "stream",
          "name": "stdout",
          "text": [
            "Enter a number:5\n",
            "5 is odd number\n"
          ]
        }
      ]
    },
    {
      "cell_type": "markdown",
      "source": [
        "Write a program to input 2 numbers,find their sum and display appropriate message if the sum is greater than 10."
      ],
      "metadata": {
        "id": "pBtMQJWeCm-V"
      }
    },
    {
      "cell_type": "code",
      "source": [
        "n1=int(input(\"Enter first number:\"))\n",
        "n2=int(input(\"Enter second number:\"))\n",
        "sum=n1+n2\n",
        "print(\"Sum of numbers is\",sum)\n",
        "if(sum>10):\n",
        "  print(sum,\"is greater than 10\")"
      ],
      "metadata": {
        "colab": {
          "base_uri": "https://localhost:8080/"
        },
        "id": "9p2PPwVEI2xS",
        "outputId": "421989e5-6ca7-4681-da31-695bea4f816a"
      },
      "execution_count": null,
      "outputs": [
        {
          "output_type": "stream",
          "name": "stdout",
          "text": [
            "Enter first number:3\n",
            "Enter second number:7\n",
            "Sum of numbers is 10\n"
          ]
        }
      ]
    },
    {
      "cell_type": "markdown",
      "source": [
        "Find the largest of 3 numbers"
      ],
      "metadata": {
        "id": "1HzZeT-BC5SE"
      }
    },
    {
      "cell_type": "code",
      "source": [
        "n1=int(input(\"Enter First number:\"))\n",
        "n2=int(input(\"Enter Second number:\"))\n",
        "n3=int(input(\"Enter Third number:\"))\n",
        "if(n1>n2 and n1>n3):\n",
        "  print(n1,\"is the greatest\")\n",
        "elif(n2>n1 and n2>n3):\n",
        "  print(n2,\"is the greatest\")\n",
        "else:\n",
        "  print(n3,\"is the greatest\")"
      ],
      "metadata": {
        "colab": {
          "base_uri": "https://localhost:8080/"
        },
        "id": "DWFtosOiJ31h",
        "outputId": "18cf5d54-f7df-43d3-94d0-26963d584782"
      },
      "execution_count": null,
      "outputs": [
        {
          "output_type": "stream",
          "name": "stdout",
          "text": [
            "Enter First number:13\n",
            "Enter Second number:12\n",
            "Enter Third number:11\n",
            "13 is the greatest\n"
          ]
        }
      ]
    },
    {
      "cell_type": "markdown",
      "source": [
        "Write a program to display the first n natural numbers.\n"
      ],
      "metadata": {
        "id": "ey0tz--4MZBg"
      }
    },
    {
      "cell_type": "code",
      "source": [
        "n=int(input(\"Enter the limit number:\"))\n",
        "print(\"Natural numbers from 1 to n\",n)\n",
        "for i in range(1,n+1):\n",
        "  print(i)"
      ],
      "metadata": {
        "colab": {
          "base_uri": "https://localhost:8080/"
        },
        "id": "gCecC5F_NBLX",
        "outputId": "f5a73aac-ecdd-4d21-ed18-b60d2495ae1f"
      },
      "execution_count": null,
      "outputs": [
        {
          "output_type": "stream",
          "name": "stdout",
          "text": [
            "Enter the limit number:12\n",
            "Natural numbers from 1 to n 12\n",
            "1\n",
            "2\n",
            "3\n",
            "4\n",
            "5\n",
            "6\n",
            "7\n",
            "8\n",
            "9\n",
            "10\n",
            "11\n",
            "12\n"
          ]
        }
      ]
    },
    {
      "cell_type": "markdown",
      "source": [
        "Write a program to display the first n even numbers."
      ],
      "metadata": {
        "id": "DVRUdZe-Mk-6"
      }
    },
    {
      "cell_type": "code",
      "source": [
        "n=int(input(\"Enter the limit number:\"))\n",
        "print(\"First\",n,\"Even natural numbers\")\n",
        "for i in range(2,n):\n",
        "  if(i%2==0):\n",
        "     print(i)"
      ],
      "metadata": {
        "colab": {
          "base_uri": "https://localhost:8080/"
        },
        "id": "z561i25zOjEf",
        "outputId": "9dd696d9-37b3-4203-84b6-0460f8668471"
      },
      "execution_count": null,
      "outputs": [
        {
          "output_type": "stream",
          "name": "stdout",
          "text": [
            "Enter the limit number:10\n",
            "First 10 Even natural numbers\n",
            "2\n",
            "4\n",
            "6\n",
            "8\n"
          ]
        }
      ]
    },
    {
      "cell_type": "markdown",
      "source": [
        "Write a program to display even numbers upto n.\n"
      ],
      "metadata": {
        "id": "oGWFSZ7QMvlP"
      }
    },
    {
      "cell_type": "markdown",
      "source": [],
      "metadata": {
        "id": "jPTCcg3kM90X"
      }
    },
    {
      "cell_type": "markdown",
      "source": [
        "Display future leap years from current year to a final year entered by user"
      ],
      "metadata": {
        "id": "51_iyA9W1yPE"
      }
    },
    {
      "cell_type": "code",
      "source": [
        "#CO1(2)\n",
        "n=int(input(\"Enter a year:\"))\n",
        "if(n%4==0) and (n%100!=0) or (n%400==0):\n",
        "  print(n,\"is a leap year\")\n",
        "else:\n",
        "    print(n,\"is not a leap year\")"
      ],
      "metadata": {
        "colab": {
          "base_uri": "https://localhost:8080/"
        },
        "id": "kwbZbgiZ17iI",
        "outputId": "3e2b5f27-552c-47a1-986d-056949e22867"
      },
      "execution_count": null,
      "outputs": [
        {
          "output_type": "stream",
          "name": "stdout",
          "text": [
            "Enter a year:2016\n",
            "2016 is a leap year\n"
          ]
        }
      ]
    },
    {
      "cell_type": "markdown",
      "source": [
        "Accept the radius from user and find area of circle."
      ],
      "metadata": {
        "id": "-poSXUkh4POR"
      }
    },
    {
      "cell_type": "code",
      "source": [
        "#CO1(10)\n",
        "r=int(input(\"Enter the radius:\"))\n",
        "radius=(3.14*r*r)\n",
        "print(radius)"
      ],
      "metadata": {
        "colab": {
          "base_uri": "https://localhost:8080/"
        },
        "id": "x0PgT3Mk4Qtd",
        "outputId": "465b09b3-c89a-4a6a-bad9-087afd9e9259"
      },
      "execution_count": null,
      "outputs": [
        {
          "output_type": "stream",
          "name": "stdout",
          "text": [
            "Enter the radius:4\n",
            "50.24\n"
          ]
        }
      ]
    },
    {
      "cell_type": "markdown",
      "source": [
        "Find biggest of 3 numbers entered"
      ],
      "metadata": {
        "id": "fasyx8gL52yg"
      }
    },
    {
      "cell_type": "code",
      "source": [
        "#CO1(11)\n",
        "n1=int(input(\"Enter the first number:\"))\n",
        "n2=int(input(\"Enter the Second number:\"))\n",
        "n3=int(input(\"Enter the Third number:\"))\n",
        "if(n1>n2 and n1>n3):\n",
        "  print(n1,\"is the Biggest\")\n",
        "elif(n2>n1 and n2>n3):\n",
        "  print(n2,\"is the Biggest\")\n",
        "else:\n",
        "  print(n3,\"is the Biggest\")\n"
      ],
      "metadata": {
        "colab": {
          "base_uri": "https://localhost:8080/"
        },
        "id": "qHB2f8wG5395",
        "outputId": "6591e35c-ca34-4cd2-e720-b9325110d78c"
      },
      "execution_count": null,
      "outputs": [
        {
          "output_type": "stream",
          "name": "stdout",
          "text": [
            "Enter the first number:3\n",
            "Enter the Second number:4\n",
            "Enter the Third number:2\n",
            "4 is the Biggest\n"
          ]
        }
      ]
    },
    {
      "cell_type": "markdown",
      "source": [
        "Program to find the factorial of a number"
      ],
      "metadata": {
        "id": "qFb0Z0fO7VGq"
      }
    },
    {
      "cell_type": "code",
      "source": [
        "#CO2(1)\n",
        "n=int(input(\"Enter a number:\"))\n",
        "fact=1\n",
        "for i in range(1,n+1):\n",
        "  fact=fact*i\n",
        "print(\"Factorial of\",n,\"is\",fact)\n"
      ],
      "metadata": {
        "colab": {
          "base_uri": "https://localhost:8080/"
        },
        "id": "bI9-j0uI7kQH",
        "outputId": "04f7fc5a-4857-414e-e185-0e302ae11b1d"
      },
      "execution_count": null,
      "outputs": [
        {
          "output_type": "stream",
          "name": "stdout",
          "text": [
            "Enter a number:5\n",
            "Factorial of 5 is 120\n"
          ]
        }
      ]
    },
    {
      "cell_type": "markdown",
      "source": [
        "Generate Fibonacci series of N terms"
      ],
      "metadata": {
        "id": "daIXg8VsAHXG"
      }
    },
    {
      "cell_type": "code",
      "source": [
        "#CO2(2)\n",
        "a=0\n",
        "b=1\n",
        "n=int(input(\"Enter the Limit:\"))\n",
        "print(a)\n",
        "print(b)\n",
        "for i in range(n-2):\n",
        "  c=a+b\n",
        "  print(c)\n",
        "  a=b\n",
        "  b=c"
      ],
      "metadata": {
        "colab": {
          "base_uri": "https://localhost:8080/"
        },
        "id": "V1MxSF9RAMn_",
        "outputId": "2b28fe9e-da84-4eda-eef6-ab88681646d0"
      },
      "execution_count": null,
      "outputs": [
        {
          "output_type": "stream",
          "name": "stdout",
          "text": [
            "Enter the Limit:10\n",
            "0\n",
            "1\n",
            "1\n",
            "2\n",
            "3\n",
            "5\n",
            "8\n",
            "13\n",
            "21\n",
            "34\n"
          ]
        }
      ]
    },
    {
      "cell_type": "markdown",
      "source": [
        "CO 2: 5 Display the given pyramid with step number accepted from user.\n",
        "Eg: N=4\n",
        "1\n",
        "2 4\n",
        "3 6 9\n",
        "4 8 12 16"
      ],
      "metadata": {
        "id": "EoZF8XE7BifJ"
      }
    },
    {
      "cell_type": "code",
      "source": [
        "n = int(input(\"Enter number of rows: \"))\n",
        "for i in range(1,n+1):\n",
        " for j in range(1,i+1):\n",
        "  print(j*i,end=\" \")\n",
        " print()"
      ],
      "metadata": {
        "id": "kYi3yh2KJmng",
        "outputId": "c30d7b4a-2bda-4352-b512-45a03fb2136d",
        "colab": {
          "base_uri": "https://localhost:8080/"
        }
      },
      "execution_count": null,
      "outputs": [
        {
          "output_type": "stream",
          "name": "stdout",
          "text": [
            "Enter number of rows: 5\n",
            "1 \n",
            "2 4 \n",
            "3 6 9 \n",
            "4 8 12 16 \n",
            "5 10 15 20 25 \n"
          ]
        }
      ]
    },
    {
      "cell_type": "code",
      "source": [],
      "metadata": {
        "id": "NhusctW9BoZ0"
      },
      "execution_count": null,
      "outputs": []
    },
    {
      "cell_type": "code",
      "source": [
        "#leap year\n",
        "start = int(input(\"Enter start year: \"))\n",
        "end = int(input(\"Enter end year: \"))\n",
        "if start < end:\n",
        "  print (\"the list of leap year \" + str(start) + \" and \" + str(end)+ \":\")\n",
        "  while start < end:\n",
        "    if start % 4 == 0and start % 100 != 0:\n",
        "        print(start)\n",
        "    if start % 100 == 0and start % 400 == 0:\n",
        "        print(start)\n",
        "    start += 1\n"
      ],
      "metadata": {
        "colab": {
          "base_uri": "https://localhost:8080/"
        },
        "id": "AyfnsD33a6h1",
        "outputId": "ae0ba213-3001-4ac9-d5f0-a978ecbfccd2"
      },
      "execution_count": null,
      "outputs": [
        {
          "output_type": "stream",
          "name": "stdout",
          "text": [
            "Enter start year: 2010\n",
            "Enter end year: 2020\n",
            "the list of leap year 2010 and 2020:\n",
            "2012\n",
            "2016\n"
          ]
        }
      ]
    },
    {
      "cell_type": "code",
      "source": [
        "#co1 2\n",
        "l1=[1,-1,-2,2,-3,3,4,5]\n",
        "l2=[i for i in l1 if i>0]\n",
        "print(\"Positive integers:\",l2)\n"
      ],
      "metadata": {
        "colab": {
          "base_uri": "https://localhost:8080/"
        },
        "id": "Jeb8oANXcNZB",
        "outputId": "6643a882-c5be-40ef-f316-1625c54e9944"
      },
      "execution_count": null,
      "outputs": [
        {
          "output_type": "stream",
          "name": "stdout",
          "text": [
            "Positive integers: [1, 2, 3, 4, 5]\n"
          ]
        }
      ]
    },
    {
      "cell_type": "code",
      "source": [
        "#co1 2\n",
        "n=int(input(\"Enter limit:\"))\n",
        "l=[i*i for i in range (n)]\n",
        "l\n"
      ],
      "metadata": {
        "colab": {
          "base_uri": "https://localhost:8080/"
        },
        "id": "GMBaXm-TliY2",
        "outputId": "1e7baad7-9fee-429e-b1da-98f782ed11b1"
      },
      "execution_count": null,
      "outputs": [
        {
          "name": "stdout",
          "output_type": "stream",
          "text": [
            "Enter limit:5\n"
          ]
        },
        {
          "output_type": "execute_result",
          "data": {
            "text/plain": [
              "[0, 1, 4, 9, 16]"
            ]
          },
          "metadata": {},
          "execution_count": 9
        }
      ]
    },
    {
      "cell_type": "code",
      "source": [
        "#co1 2\n",
        "a=input(\"Enter a word:\")\n",
        "v=[i for i in a if i in'aeiouAEIOU']\n",
        "v\n"
      ],
      "metadata": {
        "colab": {
          "base_uri": "https://localhost:8080/"
        },
        "id": "8UQaHJY3oLZ2",
        "outputId": "467a2abb-5dc4-45ef-dc39-df1570282807"
      },
      "execution_count": null,
      "outputs": [
        {
          "name": "stdout",
          "output_type": "stream",
          "text": [
            "Enter a word:benson\n"
          ]
        },
        {
          "output_type": "execute_result",
          "data": {
            "text/plain": [
              "['e', 'o']"
            ]
          },
          "metadata": {},
          "execution_count": 11
        }
      ]
    },
    {
      "cell_type": "code",
      "source": [
        "#co1 3\n",
        "str=input(\"Enter a line: \")\n",
        "l=[]\n",
        "l=str.split()\n",
        "wc=[l.count(i) for i in l]\n",
        "print(dict(zip(l,wc)))\n"
      ],
      "metadata": {
        "colab": {
          "base_uri": "https://localhost:8080/"
        },
        "id": "WZsbYu08o0L5",
        "outputId": "46fd7378-cead-48ba-8629-d3d9fef15cbc"
      },
      "execution_count": null,
      "outputs": [
        {
          "output_type": "stream",
          "name": "stdout",
          "text": [
            "Enter a line: Raju had a car\n",
            "{'Raju': 1, 'had': 1, 'a': 1, 'car': 1}\n"
          ]
        }
      ]
    },
    {
      "cell_type": "code",
      "source": [
        "#co1 5\n",
        "list=[]\n",
        "n=int(input(\"enter the limit:\"))\n",
        "print(\"enter the numbers:\")\n",
        "for i in range (0, n):\n",
        "  nu=int(input())\n",
        "  if nu>100:\n",
        "    list.append('over')\n",
        "  else:\n",
        "      list.append(nu)\n",
        "print(list)\n"
      ],
      "metadata": {
        "colab": {
          "base_uri": "https://localhost:8080/"
        },
        "id": "uCUgYFCypjLX",
        "outputId": "ad12535c-29dc-4005-8532-29cf90ecc465"
      },
      "execution_count": null,
      "outputs": [
        {
          "output_type": "stream",
          "name": "stdout",
          "text": [
            "enter the limit:5\n",
            "enter the numbers:\n",
            "34\n",
            "900\n",
            "300\n",
            "400\n",
            "23\n",
            "[34, 'over', 'over', 'over', 23]\n"
          ]
        }
      ]
    }
  ]
}