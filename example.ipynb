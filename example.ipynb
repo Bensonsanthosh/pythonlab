{
  "nbformat": 4,
  "nbformat_minor": 0,
  "metadata": {
    "colab": {
      "provenance": []
    },
    "kernelspec": {
      "name": "python3",
      "display_name": "Python 3"
    },
    "language_info": {
      "name": "python"
    }
  },
  "cells": [
    {
      "cell_type": "code",
      "execution_count": null,
      "metadata": {
        "colab": {
          "base_uri": "https://localhost:8080/"
        },
        "id": "gABsUHhOrRQg",
        "outputId": "31ddb5c9-50ad-439e-c654-9dffe0658d07"
      },
      "outputs": [
        {
          "output_type": "stream",
          "name": "stdout",
          "text": [
            "a occurs in sam 1 times\n",
            "a occurs in aleena 2 times\n",
            "a occurs in basil 1 times\n"
          ]
        }
      ],
      "source": [
        "name=['sam','aleena','basil']\n",
        "for i in name:\n",
        "  print(\"a\",\"occurs in\",i,i.count('a'),\"times\")\n"
      ]
    },
    {
      "cell_type": "code",
      "source": [
        "name=input(\"Enter a name : \")\n",
        "name[-1]+name[1:-1]+name[0]\n"
      ],
      "metadata": {
        "colab": {
          "base_uri": "https://localhost:8080/",
          "height": 53
        },
        "id": "x1zAswLHuALr",
        "outputId": "1efc0489-642a-4eda-a87f-a0fb9a64eb66"
      },
      "execution_count": null,
      "outputs": [
        {
          "name": "stdout",
          "output_type": "stream",
          "text": [
            "Enter a name : bensonsanthosh\n"
          ]
        },
        {
          "output_type": "execute_result",
          "data": {
            "text/plain": [
              "'hensonsanthosb'"
            ],
            "application/vnd.google.colaboratory.intrinsic+json": {
              "type": "string"
            }
          },
          "metadata": {},
          "execution_count": 4
        }
      ]
    },
    {
      "cell_type": "code",
      "source": [
        "r=float(input(\"Enter the radius : \"))\n",
        "print(\"Area : \",3.14*r*r)\n",
        "\n"
      ],
      "metadata": {
        "colab": {
          "base_uri": "https://localhost:8080/"
        },
        "id": "ii6Dw6OUuyph",
        "outputId": "39d10d7d-63b3-4576-f6b9-117bd3d32c5d"
      },
      "execution_count": null,
      "outputs": [
        {
          "output_type": "stream",
          "name": "stdout",
          "text": [
            "Enter the radius : 5\n",
            "Area :  78.5\n"
          ]
        }
      ]
    },
    {
      "cell_type": "code",
      "source": [
        "n=int(input(\"Enter a number : \"))\n",
        "print(\"Result :\",n+n*11+n*111)\n"
      ],
      "metadata": {
        "colab": {
          "base_uri": "https://localhost:8080/"
        },
        "id": "JcnIz_rdwR45",
        "outputId": "64bda306-fb29-476e-ea1c-d5a7b9dac31b"
      },
      "execution_count": null,
      "outputs": [
        {
          "output_type": "stream",
          "name": "stdout",
          "text": [
            "Enter a number : 5\n",
            "Result : 615\n"
          ]
        }
      ]
    },
    {
      "cell_type": "code",
      "source": [
        "s1=input(\"Enter string 1 : \")\n",
        "s2=input(\"Enter string 2 : \")\n",
        "s3=s2[0]+s1[1:]+\" \"+s1[0]+s2[1:]\n",
        "print(\"Swapped string :\",s3)\n"
      ],
      "metadata": {
        "colab": {
          "base_uri": "https://localhost:8080/"
        },
        "id": "ffOtovh8wowe",
        "outputId": "3eb75310-88b8-4b5a-c8f5-b3c1e7f9d891"
      },
      "execution_count": null,
      "outputs": [
        {
          "output_type": "stream",
          "name": "stdout",
          "text": [
            "Enter string 1 : tom\n",
            "Enter string 2 : jerry\n",
            "Swapped string : jom terry\n"
          ]
        }
      ]
    },
    {
      "cell_type": "code",
      "source": [
        "d = {'Bobby': 9, 'Anna': 2,'Gean': 3}\n",
        "print(\"Ascending order : \",dict(sorted(d.items())))\n",
        "print(\"Descending order : \",dict(sorted(d.items(), reverse=True)))\n"
      ],
      "metadata": {
        "colab": {
          "base_uri": "https://localhost:8080/"
        },
        "id": "0TWJuWm8xlKG",
        "outputId": "3b2ca835-deda-4cbf-9043-f8c486d06613"
      },
      "execution_count": null,
      "outputs": [
        {
          "output_type": "stream",
          "name": "stdout",
          "text": [
            "Ascending order :  {'Anna': 2, 'Bobby': 9, 'Gean': 3}\n",
            "Descending order :  {'Gean': 3, 'Bobby': 9, 'Anna': 2}\n"
          ]
        }
      ]
    },
    {
      "cell_type": "code",
      "source": [
        "d1 = {'Jose': 1,'Anu': 2, 'Ruben': 3}\n",
        "d2 = {'Aswin': 2,'Paul': 4, 'Nakul': 5}\n",
        "print(\"Merged dictionaries :\",d1|d2)\n"
      ],
      "metadata": {
        "colab": {
          "base_uri": "https://localhost:8080/"
        },
        "id": "YAor9_Qe1Wiu",
        "outputId": "ef1354d4-d429-4b97-b776-f6c8b4c5b971"
      },
      "execution_count": null,
      "outputs": [
        {
          "output_type": "stream",
          "name": "stdout",
          "text": [
            "Merged dictionaries : {'Jose': 1, 'Anu': 2, 'Ruben': 3, 'Aswin': 2, 'Paul': 4, 'Nakul': 5}\n"
          ]
        }
      ]
    },
    {
      "cell_type": "code",
      "source": [
        "import math\n",
        "x=int(input(\"Enter the first number : \"))\n",
        "y=int(input(\"Enter the second number : \"))\n",
        "print(\"GCD : \",math.gcd(x,y))\n",
        "\n"
      ],
      "metadata": {
        "colab": {
          "base_uri": "https://localhost:8080/"
        },
        "id": "A92lnjat2hPL",
        "outputId": "c61c4c84-a34a-4895-ecda-fdb7e306b14a"
      },
      "execution_count": null,
      "outputs": [
        {
          "output_type": "stream",
          "name": "stdout",
          "text": [
            "Enter the first number : 50\n",
            "Enter the second number : 354\n",
            "GCD :  2\n"
          ]
        }
      ]
    },
    {
      "cell_type": "code",
      "source": [
        "def fact(x):\n",
        "  if x==1:\n",
        "    return 1\n",
        "  else:\n",
        "    return x*fact(x-1)\n",
        "x=int(input(\"Enter the number : \"))\n",
        "print(\"Factorial : \",fact(x))\n"
      ],
      "metadata": {
        "colab": {
          "base_uri": "https://localhost:8080/"
        },
        "id": "FlwCmJLZ3B9q",
        "outputId": "16044909-e242-4296-cfc4-3f0960b2d24a"
      },
      "execution_count": null,
      "outputs": [
        {
          "output_type": "stream",
          "name": "stdout",
          "text": [
            "Enter the number : 6\n",
            "Factorial :  720\n"
          ]
        }
      ]
    },
    {
      "cell_type": "code",
      "source": [
        "l=[]\n",
        "n=int(input(\"Enter the size of the list : \"))\n",
        "print(\"Enter elements : \")\n",
        "for i in 3\n",
        "range(n):\n",
        "  i=int(input())\n",
        "  l.append(i)\n",
        "\n",
        "print(\"Sum : \",sum(l))\n"
      ],
      "metadata": {
        "colab": {
          "base_uri": "https://localhost:8080/"
        },
        "id": "ePJZZ9bX323T",
        "outputId": "7aaac5f0-9dd7-4230-cd98-2765588f637e"
      },
      "execution_count": null,
      "outputs": [
        {
          "output_type": "stream",
          "name": "stdout",
          "text": [
            "Enter the size of the list : 5\n",
            "Enter elements : \n",
            "1\n",
            "2\n",
            "3\n",
            "4\n",
            "5\n",
            "Sum :  15\n"
          ]
        }
      ]
    },
    {
      "cell_type": "code",
      "source": [
        "input_string = input(\"Enter a string: \")\n",
        "char_count = {}\n",
        "for char in input_string:\n",
        "    char_count[char] = char_count.get(char, 0) + 1\n",
        "for char, count in char_count.items():\n",
        "    print(f\"'{char}': {count}\")\n"
      ],
      "metadata": {
        "colab": {
          "base_uri": "https://localhost:8080/"
        },
        "id": "lDHeWTAW4jXw",
        "outputId": "ff136dc0-c272-42c9-f96b-16242d794f14"
      },
      "execution_count": null,
      "outputs": [
        {
          "output_type": "stream",
          "name": "stdout",
          "text": [
            "Enter a string: benson\n",
            "'b': 1\n",
            "'e': 1\n",
            "'n': 2\n",
            "'s': 1\n",
            "'o': 1\n"
          ]
        }
      ]
    },
    {
      "cell_type": "code",
      "source": [
        "n = int(input(\"Enter the size of the list: \"))\n",
        "a = [input(\"Enter word: \") for _ in range(n)]\n",
        "\n",
        "temp = max(a, key=len)\n",
        "\n",
        "print(\"Word with max length is\", temp, \"Its length is\", len(temp))\n",
        "\n"
      ],
      "metadata": {
        "colab": {
          "base_uri": "https://localhost:8080/"
        },
        "id": "tpsxOQq15MPd",
        "outputId": "7787aed1-916c-4cd6-e16a-87e5ba02494a"
      },
      "execution_count": null,
      "outputs": [
        {
          "output_type": "stream",
          "name": "stdout",
          "text": [
            "Enter the size of the list: 3\n",
            "Enter word: benson\n",
            "Enter word: basil\n",
            "Enter word: blesson\n",
            "Word with max length is blesson Its length is 7\n"
          ]
        }
      ]
    },
    {
      "cell_type": "code",
      "source": [
        "def facts(x):\n",
        "    return [i for i in range(1, x + 1) if x % i == 0]\n",
        "\n",
        "n = int(input(\"Enter a number: \"))\n",
        "factors = facts(n)\n",
        "\n",
        "print(f\"Factors of {n} are: {factors}\")\n",
        "\n"
      ],
      "metadata": {
        "colab": {
          "base_uri": "https://localhost:8080/"
        },
        "id": "TfSRkJ-z5n7p",
        "outputId": "7f088b45-fba2-45b9-8cdd-b5f1558612ca"
      },
      "execution_count": null,
      "outputs": [
        {
          "output_type": "stream",
          "name": "stdout",
          "text": [
            "Enter a number: 45\n",
            "Factors of 45 are: [1, 3, 5, 9, 15, 45]\n"
          ]
        }
      ]
    },
    {
      "cell_type": "code",
      "source": [
        "\n",
        "area1=lambda a: a*a\n",
        "area2=lambda l,b: l*b\n",
        "area3=lambda b,h: 0.5*(b*h)\n",
        "\n",
        "s=int(input(\"Enter the side of square : \"))\n",
        "print(\"Area of square : \",area1(s))\n",
        "\n",
        "l=int(input(\"Enter the length of rectangle : \"))\n",
        "b=int(input(\"Enter the breadth of rectangle : \"))\n",
        "print(\"Area of rectangle : \",area2(l,b))\n",
        "\n",
        "b=int(input(\"Enter the base of triangle : \"))\n",
        "h=int(input(\"Enter the height of triangle : \"))\n",
        "print(\"Area of triangle : \",area3(b,h))\n",
        "\n"
      ],
      "metadata": {
        "colab": {
          "base_uri": "https://localhost:8080/"
        },
        "id": "ZbYsHWmJ6C77",
        "outputId": "d02db74e-0487-4948-b991-153c47297ebc"
      },
      "execution_count": null,
      "outputs": [
        {
          "output_type": "stream",
          "name": "stdout",
          "text": [
            "Enter the side of square : 4\n",
            "Area of square :  16\n",
            "Enter the length of rectangle : 3\n",
            "Enter the breadth of rectangle : 4\n",
            "Area of rectangle :  12\n",
            "Enter the base of triangle : 6\n",
            "Enter the height of triangle : 3\n",
            "Area of triangle :  9.0\n"
          ]
        }
      ]
    }
  ]
}